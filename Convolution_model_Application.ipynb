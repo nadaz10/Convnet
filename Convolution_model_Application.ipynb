{
  "cells": [
    {
      "cell_type": "markdown",
      "metadata": {
        "id": "view-in-github",
        "colab_type": "text"
      },
      "source": [
        "<a href=\"https://colab.research.google.com/github/nadaz10/Convnet/blob/main/Convolution_model_Application.ipynb\" target=\"_parent\"><img src=\"https://colab.research.google.com/assets/colab-badge.svg\" alt=\"Open In Colab\"/></a>"
      ]
    },
    {
      "cell_type": "markdown",
      "metadata": {
        "id": "YhO-7kv5lP_h"
      },
      "source": [
        "# Convolutional Neural Networks: Application\n",
        "\n",
        "Welcome to Course 4's second assignment! In this notebook, you will:\n",
        "\n",
        "- Create a mood classifer using the TF Keras Sequential API\n",
        "- Build a ConvNet to identify sign language digits using the TF Keras Functional API\n",
        "\n",
        "**After this assignment you will be able to:**\n",
        "\n",
        "- Build and train a ConvNet in TensorFlow for a __binary__ classification problem\n",
        "- Build and train a ConvNet in TensorFlow for a __multiclass__ classification problem\n",
        "- Explain different use cases for the Sequential and Functional APIs\n",
        "\n",
        "To complete this assignment, you should already be familiar with TensorFlow. If you are not, please refer back to the **TensorFlow Tutorial** of the third week of Course 2 (\"**Improving deep neural networks**\").\n",
        "\n",
        "## Important Note on Submission to the AutoGrader\n",
        "\n",
        "Before submitting your assignment to the AutoGrader, please make sure you are not doing the following:\n",
        "\n",
        "1. You have not added any _extra_ `print` statement(s) in the assignment.\n",
        "2. You have not added any _extra_ code cell(s) in the assignment.\n",
        "3. You have not changed any of the function parameters.\n",
        "4. You are not using any global variables inside your graded exercises. Unless specifically instructed to do so, please refrain from it and use the local variables instead.\n",
        "5. You are not changing the assignment code where it is not required, like creating _extra_ variables.\n",
        "\n",
        "If you do any of the following, you will get something like, `Grader Error: Grader feedback not found` (or similarly unexpected) error upon submitting your assignment. Before asking for help/debugging the errors in your assignment, check for these first. If this is the case, and you don't remember the changes you have made, you can get a fresh copy of the assignment by following these [instructions](https://www.coursera.org/learn/convolutional-neural-networks/supplement/DS4yP/h-ow-to-refresh-your-workspace)."
      ]
    },
    {
      "cell_type": "markdown",
      "metadata": {
        "id": "JMV-1b6zlP_i"
      },
      "source": [
        "## Table of Contents\n",
        "\n",
        "- [1 - Packages](#1)\n",
        "    - [1.1 - Load the Data and Split the Data into Train/Test Sets](#1-1)\n",
        "- [2 - Layers in TF Keras](#2)\n",
        "- [3 - The Sequential API](#3)\n",
        "    - [3.1 - Create the Sequential Model](#3-1)\n",
        "        - [Exercise 1 - happyModel](#ex-1)\n",
        "    - [3.2 - Train and Evaluate the Model](#3-2)\n",
        "- [4 - The Functional API](#4)\n",
        "    - [4.1 - Load the SIGNS Dataset](#4-1)\n",
        "    - [4.2 - Split the Data into Train/Test Sets](#4-2)\n",
        "    - [4.3 - Forward Propagation](#4-3)\n",
        "        - [Exercise 2 - convolutional_model](#ex-2)\n",
        "    - [4.4 - Train the Model](#4-4)\n",
        "- [5 - History Object](#5)\n",
        "- [6 - Bibliography](#6)"
      ]
    },
    {
      "cell_type": "markdown",
      "metadata": {
        "id": "2WBp92CNlP_j"
      },
      "source": [
        "<a name='1'></a>\n",
        "## 1 - Packages\n",
        "\n",
        "As usual, begin by loading in the packages."
      ]
    },
    {
      "cell_type": "code",
      "execution_count": null,
      "metadata": {
        "deletable": false,
        "editable": false,
        "id": "t-Q7eIrQlP_j"
      },
      "outputs": [],
      "source": [
        "### v1.1"
      ]
    },
    {
      "cell_type": "code",
      "execution_count": null,
      "metadata": {
        "id": "Zf414xkSlP_j"
      },
      "outputs": [],
      "source": [
        "import math\n",
        "import numpy as np\n",
        "import h5py\n",
        "import matplotlib.pyplot as plt\n",
        "from matplotlib.pyplot import imread\n",
        "import scipy\n",
        "from PIL import Image\n",
        "import pandas as pd\n",
        "import tensorflow as tf\n",
        "import tensorflow.keras.layers as tfl\n",
        "from tensorflow.python.framework import ops\n",
        "from cnn_utils import *\n",
        "from test_utils import summary, comparator\n",
        "\n",
        "%matplotlib inline\n",
        "np.random.seed(1)"
      ]
    },
    {
      "cell_type": "markdown",
      "metadata": {
        "id": "4XG4BXSUlP_j"
      },
      "source": [
        "<a name='1-1'></a>\n",
        "### 1.1 - Load the Data and Split the Data into Train/Test Sets\n",
        "\n",
        "You'll be using the Happy House dataset for this part of the assignment, which contains images of peoples' faces. Your task will be to build a ConvNet that determines whether the people in the images are smiling or not -- because they only get to enter the house if they're smiling!  "
      ]
    },
    {
      "cell_type": "code",
      "execution_count": null,
      "metadata": {
        "id": "rBWBfNuXlP_j",
        "outputId": "40a0a4fc-a08e-42db-a40e-43645ee5978f"
      },
      "outputs": [
        {
          "name": "stdout",
          "output_type": "stream",
          "text": [
            "number of training examples = 600\n",
            "number of test examples = 150\n",
            "X_train shape: (600, 64, 64, 3)\n",
            "Y_train shape: (600, 1)\n",
            "X_test shape: (150, 64, 64, 3)\n",
            "Y_test shape: (150, 1)\n"
          ]
        }
      ],
      "source": [
        "X_train_orig, Y_train_orig, X_test_orig, Y_test_orig, classes = load_happy_dataset()\n",
        "\n",
        "# Normalize image vectors\n",
        "X_train = X_train_orig/255.\n",
        "X_test = X_test_orig/255.\n",
        "\n",
        "# Reshape\n",
        "Y_train = Y_train_orig.T\n",
        "Y_test = Y_test_orig.T\n",
        "\n",
        "print (\"number of training examples = \" + str(X_train.shape[0]))\n",
        "print (\"number of test examples = \" + str(X_test.shape[0]))\n",
        "print (\"X_train shape: \" + str(X_train.shape))\n",
        "print (\"Y_train shape: \" + str(Y_train.shape))\n",
        "print (\"X_test shape: \" + str(X_test.shape))\n",
        "print (\"Y_test shape: \" + str(Y_test.shape))"
      ]
    },
    {
      "cell_type": "markdown",
      "metadata": {
        "id": "GcL6AWhHlP_k"
      },
      "source": [
        "You can display the images contained in the dataset. Images are **64x64** pixels in RGB format (3 channels)."
      ]
    },
    {
      "cell_type": "code",
      "execution_count": null,
      "metadata": {
        "id": "VZb8q25LlP_k",
        "outputId": "63e8330e-07bc-4220-e56b-3bc691748ec6"
      },
      "outputs": [
        {
          "data": {
            "image/png": "[encoded data removed]",
            "text/plain": [
              "<Figure size 432x288 with 1 Axes>"
            ]
          },
          "metadata": {
            "needs_background": "light"
          },
          "output_type": "display_data"
        }
      ],
      "source": [
        "index = 124\n",
        "plt.imshow(X_train_orig[index]) #display sample training image\n",
        "plt.show()"
      ]
    },
    {
      "cell_type": "markdown",
      "metadata": {
        "id": "FipBseeUlP_k"
      },
      "source": [
        "<a name='2'></a>\n",
        "## 2 - Layers in TF Keras\n",
        "\n",
        "In the previous assignment, you created layers manually in numpy. In TF Keras, you don't have to write code directly to create layers. Rather, TF Keras has pre-defined layers you can use.\n",
        "\n",
        "When you create a layer in TF Keras, you are creating a function that takes some input and transforms it into an output you can reuse later. Nice and easy!"
      ]
    },
    {
      "cell_type": "markdown",
      "metadata": {
        "id": "RRWfkuBQlP_k"
      },
      "source": [
        "<a name='3'></a>\n",
        "## 3 - The Sequential API\n",
        "\n",
        "In the previous assignment, you built helper functions using `numpy` to understand the mechanics behind convolutional neural networks. Most practical applications of deep learning today are built using programming frameworks, which have many built-in functions you can simply call. Keras is a high-level abstraction built on top of TensorFlow, which allows for even more simplified and optimized model creation and training.\n",
        "\n",
        "For the first part of this assignment, you'll create a model using TF Keras' Sequential API, which allows you to build layer by layer, and is ideal for building models where each layer has **exactly one** input tensor and **one** output tensor.\n",
        "\n",
        "As you'll see, using the Sequential API is simple and straightforward, but is only appropriate for simpler, more straightforward tasks. Later in this notebook you'll spend some time building with a more flexible, powerful alternative: the Functional API.\n",
        ""
      ]
    },
    {
      "cell_type": "markdown",
      "metadata": {
        "id": "Vf4UkDLQlP_k"
      },
      "source": [
        "<a name='3-1'></a>\n",
        "### 3.1 - Create the Sequential Model\n",
        "\n",
        "As mentioned earlier, the TensorFlow Keras Sequential API can be used to build simple models with layer operations that proceed in a sequential order.\n",
        "\n",
        "You can also add layers incrementally to a Sequential model with the `.add()` method, or remove them using the `.pop()` method, much like you would in a regular Python list.\n",
        "\n",
        "Actually, you can think of a Sequential model as behaving like a list of layers. Like Python lists, Sequential layers are ordered, and the order in which they are specified matters.  If your model is non-linear or contains layers with multiple inputs or outputs, a Sequential model wouldn't be the right choice!\n",
        "\n",
        "For any layer construction in Keras, you'll need to specify the input shape in advance. This is because in Keras, the shape of the weights is based on the shape of the inputs. The weights are only created when the model first sees some input data. Sequential models can be created by passing a list of layers to the Sequential constructor, like you will do in the next assignment.\n",
        "\n",
        "<a name='ex-1'></a>\n",
        "### Exercise 1 - happyModel\n",
        "\n",
        "Implement the `happyModel` function below to build the following model: `ZEROPAD2D -> CONV2D -> BATCHNORM -> RELU -> MAXPOOL -> FLATTEN -> DENSE`. Take help from [tf.keras.layers](https://www.tensorflow.org/api_docs/python/tf/keras/layers)\n",
        "\n",
        "Also, plug in the following parameters for all the steps:\n",
        "\n",
        " - [ZeroPadding2D](https://www.tensorflow.org/api_docs/python/tf/keras/layers/ZeroPadding2D): padding 3, input shape 64 x 64 x 3\n",
        " - [Conv2D](https://www.tensorflow.org/api_docs/python/tf/keras/layers/Conv2D): Use 32 7x7 filters, stride 1\n",
        " - [BatchNormalization](https://www.tensorflow.org/api_docs/python/tf/keras/layers/BatchNormalization): for axis 3\n",
        " - [ReLU](https://www.tensorflow.org/api_docs/python/tf/keras/layers/ReLU)\n",
        " - [MaxPool2D](https://www.tensorflow.org/api_docs/python/tf/keras/layers/MaxPool2D): Using default parameters\n",
        " - [Flatten](https://www.tensorflow.org/api_docs/python/tf/keras/layers/Flatten) the previous output.\n",
        " - Fully-connected ([Dense](https://www.tensorflow.org/api_docs/python/tf/keras/layers/Dense)) layer: Apply a fully connected layer with 1 neuron and a sigmoid activation.\n",
        "\n",
        "\n",
        " **Hint:**\n",
        "\n",
        " Use **tfl** as shorthand for **tensorflow.keras.layers**"
      ]
    },
    {
      "cell_type": "code",
      "execution_count": null,
      "metadata": {
        "deletable": false,
        "nbgrader": {
          "cell_type": "code",
          "checksum": "95d28b191f257bdd5b70c7b8952559d5",
          "grade": false,
          "grade_id": "cell-0e56d3fc28b69aec",
          "locked": false,
          "schema_version": 3,
          "solution": true,
          "task": false
        },
        "id": "bNSsdIiNlP_k"
      },
      "outputs": [],
      "source": [
        "# GRADED FUNCTION: happyModel\n",
        "import tensorflow as tf\n",
        "from tensorflow.keras.layers import ZeroPadding2D, Conv2D, BatchNormalization, ReLU, MaxPooling2D, Flatten, Dense\n",
        "def happyModel():\n",
        "    \"\"\"\n",
        "    Implements the forward propagation for the binary classification model:\n",
        "    ZEROPAD2D -> CONV2D -> BATCHNORM -> RELU -> MAXPOOL -> FLATTEN -> DENSE\n",
        "\n",
        "    Note that for simplicity and grading purposes, you'll hard-code all the values\n",
        "    such as the stride and kernel (filter) sizes.\n",
        "    Normally, functions should take these values as function parameters.\n",
        "\n",
        "    Arguments:\n",
        "    None\n",
        "\n",
        "    Returns:\n",
        "    model -- TF Keras model (object containing the information for the entire training process)\n",
        "    \"\"\"\n",
        "    model = tf.keras.Sequential([\n",
        "            ## ZeroPadding2D with padding 3, input shape of 64 x 64 x 3\n",
        "            ZeroPadding2D(padding=(3, 3), input_shape=(64, 64, 3)),\n",
        "\n",
        "            ## Conv2D with 32 7x7 filters and stride of 1\n",
        "            Conv2D(32, (7, 7), strides=(1, 1)),\n",
        "\n",
        "            BatchNormalization(axis=3),\n",
        "            ## BatchNormalization for axis 3\n",
        "\n",
        "            ## ReLU\n",
        "            ReLU(),\n",
        "            ## Max Pooling 2D with default parameters\n",
        "            MaxPooling2D(pool_size=(2, 2)),\n",
        "\n",
        "            ## Flatten layer\n",
        "            Flatten(),\n",
        "\n",
        "            ## Dense layer with 1 unit for output & 'sigmoid' activation\n",
        "            Dense(1, activation='sigmoid')\n",
        "\n",
        "            # YOUR CODE STARTS HERE\n",
        "\n",
        "\n",
        "            # YOUR CODE ENDS HERE\n",
        "        ])\n",
        "\n",
        "    return model"
      ]
    },
    {
      "cell_type": "code",
      "execution_count": null,
      "metadata": {
        "deletable": false,
        "editable": false,
        "nbgrader": {
          "cell_type": "code",
          "checksum": "8d3575c950e2e78149be2d05d671c80d",
          "grade": true,
          "grade_id": "cell-e3e1046e5c33d775",
          "locked": true,
          "points": 10,
          "schema_version": 3,
          "solution": false,
          "task": false
        },
        "id": "kva4T2jQlP_l",
        "outputId": "61ce440e-8b5d-4de2-dc8e-6a4279e67387"
      },
      "outputs": [
        {
          "name": "stdout",
          "output_type": "stream",
          "text": [
            "['ZeroPadding2D', (None, 70, 70, 3), 0, ((3, 3), (3, 3))]\n",
            "['Conv2D', (None, 64, 64, 32), 4736, 'valid', 'linear', 'GlorotUniform']\n",
            "['BatchNormalization', (None, 64, 64, 32), 128]\n",
            "['ReLU', (None, 64, 64, 32), 0]\n",
            "['MaxPooling2D', (None, 32, 32, 32), 0, (2, 2), (2, 2), 'valid']\n",
            "['Flatten', (None, 32768), 0]\n",
            "['Dense', (None, 1), 32769, 'sigmoid']\n",
            "\u001b[32mAll tests passed!\u001b[0m\n"
          ]
        }
      ],
      "source": [
        "happy_model = happyModel()\n",
        "# Print a summary for each layer\n",
        "for layer in summary(happy_model):\n",
        "    print(layer)\n",
        "\n",
        "output = [['ZeroPadding2D', (None, 70, 70, 3), 0, ((3, 3), (3, 3))],\n",
        "            ['Conv2D', (None, 64, 64, 32), 4736, 'valid', 'linear', 'GlorotUniform'],\n",
        "            ['BatchNormalization', (None, 64, 64, 32), 128],\n",
        "            ['ReLU', (None, 64, 64, 32), 0],\n",
        "            ['MaxPooling2D', (None, 32, 32, 32), 0, (2, 2), (2, 2), 'valid'],\n",
        "            ['Flatten', (None, 32768), 0],\n",
        "            ['Dense', (None, 1), 32769, 'sigmoid']]\n",
        "\n",
        "comparator(summary(happy_model), output)"
      ]
    },
    {
      "cell_type": "markdown",
      "metadata": {
        "id": "LEpFjN9slP_l"
      },
      "source": [
        "#### Expected Output:\n",
        "\n",
        "```\n",
        "['ZeroPadding2D', (None, 70, 70, 3), 0, ((3, 3), (3, 3))]\n",
        "['Conv2D', (None, 64, 64, 32), 4736, 'valid', 'linear', 'GlorotUniform']\n",
        "['BatchNormalization', (None, 64, 64, 32), 128]\n",
        "['ReLU', (None, 64, 64, 32), 0]\n",
        "['MaxPooling2D', (None, 32, 32, 32), 0, (2, 2), (2, 2), 'valid']\n",
        "['Flatten', (None, 32768), 0]\n",
        "['Dense', (None, 1), 32769, 'sigmoid']\n",
        "All tests passed!\n",
        "```"
      ]
    },
    {
      "cell_type": "markdown",
      "metadata": {
        "id": "7e-PT63ulP_l"
      },
      "source": [
        "Now that your model is created, you can compile it for training with an optimizer and loss of your choice. When the string `accuracy` is specified as a metric, the type of accuracy used will be automatically converted based on the loss function used. This is one of the many optimizations built into TensorFlow that make your life easier! If you'd like to read more on how the compiler operates, check the docs [here](https://www.tensorflow.org/api_docs/python/tf/keras/Model#compile)."
      ]
    },
    {
      "cell_type": "code",
      "execution_count": null,
      "metadata": {
        "id": "qo2HHlLUlP_l"
      },
      "outputs": [],
      "source": [
        "happy_model.compile(optimizer='adam',\n",
        "                   loss='binary_crossentropy',\n",
        "                   metrics=['accuracy'])"
      ]
    },
    {
      "cell_type": "markdown",
      "metadata": {
        "id": "cZkuvOIflP_l"
      },
      "source": [
        "It's time to check your model's parameters with the `.summary()` method. This will display the types of layers you have, the shape of the outputs, and how many parameters are in each layer."
      ]
    },
    {
      "cell_type": "code",
      "execution_count": null,
      "metadata": {
        "id": "kCQrd_TSlP_l",
        "outputId": "14c2ef82-5aee-431e-e26f-171230a33bf2"
      },
      "outputs": [
        {
          "name": "stdout",
          "output_type": "stream",
          "text": [
            "Model: \"sequential\"\n",
            "_________________________________________________________________\n",
            "Layer (type)                 Output Shape              Param #   \n",
            "=================================================================\n",
            "zero_padding2d (ZeroPadding2 (None, 70, 70, 3)         0         \n",
            "_________________________________________________________________\n",
            "conv2d (Conv2D)              (None, 64, 64, 32)        4736      \n",
            "_________________________________________________________________\n",
            "batch_normalization (BatchNo (None, 64, 64, 32)        128       \n",
            "_________________________________________________________________\n",
            "re_lu (ReLU)                 (None, 64, 64, 32)        0         \n",
            "_________________________________________________________________\n",
            "max_pooling2d (MaxPooling2D) (None, 32, 32, 32)        0         \n",
            "_________________________________________________________________\n",
            "flatten (Flatten)            (None, 32768)             0         \n",
            "_________________________________________________________________\n",
            "dense (Dense)                (None, 1)                 32769     \n",
            "=================================================================\n",
            "Total params: 37,633\n",
            "Trainable params: 37,569\n",
            "Non-trainable params: 64\n",
            "_________________________________________________________________\n"
          ]
        }
      ],
      "source": [
        "happy_model.summary()"
      ]
    },
    {
      "cell_type": "markdown",
      "metadata": {
        "id": "IGG0tGQVlP_l"
      },
      "source": [
        "<a name='3-2'></a>\n",
        "### 3.2 - Train and Evaluate the Model\n",
        "\n",
        "After creating the model, compiling it with your choice of optimizer and loss function, and doing a sanity check on its contents, you are now ready to build!\n",
        "\n",
        "Simply call `.fit()` to train. That's it! No need for mini-batching, saving, or complex backpropagation computations. That's all been done for you, as you're using a TensorFlow dataset with the batches specified already. You do have the option to specify epoch number or minibatch size if you like (for example, in the case of an un-batched dataset)."
      ]
    },
    {
      "cell_type": "code",
      "execution_count": null,
      "metadata": {
        "id": "tBkEqRk0lP_l",
        "outputId": "9320a3d6-d49b-4730-b56d-d93a4f2de216"
      },
      "outputs": [
        {
          "name": "stdout",
          "output_type": "stream",
          "text": [
            "Epoch 1/10\n",
            "38/38 [==============================] - 4s 100ms/step - loss: 0.9420 - accuracy: 0.7483\n",
            "Epoch 2/10\n",
            "38/38 [==============================] - 4s 97ms/step - loss: 0.1782 - accuracy: 0.9233\n",
            "Epoch 3/10\n",
            "38/38 [==============================] - 4s 97ms/step - loss: 0.1336 - accuracy: 0.9450\n",
            "Epoch 4/10\n",
            "38/38 [==============================] - 4s 97ms/step - loss: 0.2101 - accuracy: 0.9133\n",
            "Epoch 5/10\n",
            "38/38 [==============================] - 4s 95ms/step - loss: 0.0881 - accuracy: 0.9683\n",
            "Epoch 6/10\n",
            "38/38 [==============================] - 4s 100ms/step - loss: 0.1585 - accuracy: 0.9433\n",
            "Epoch 7/10\n",
            "38/38 [==============================] - 4s 97ms/step - loss: 0.0906 - accuracy: 0.9667\n",
            "Epoch 8/10\n",
            "38/38 [==============================] - 4s 98ms/step - loss: 0.0708 - accuracy: 0.9733\n",
            "Epoch 9/10\n",
            "38/38 [==============================] - 4s 100ms/step - loss: 0.0770 - accuracy: 0.9617\n",
            "Epoch 10/10\n",
            "38/38 [==============================] - 4s 97ms/step - loss: 0.2116 - accuracy: 0.9233\n"
          ]
        },
        {
          "data": {
            "text/plain": [
              "<tensorflow.python.keras.callbacks.History at 0x7a5b7f49fd10>"
            ]
          },
          "execution_count": 10,
          "metadata": {},
          "output_type": "execute_result"
        }
      ],
      "source": [
        "happy_model.fit(X_train, Y_train, epochs=10, batch_size=16)"
      ]
    },
    {
      "cell_type": "markdown",
      "metadata": {
        "id": "f_9CpWQclP_l"
      },
      "source": [
        "After that completes, just use `.evaluate()` to evaluate against your test set. This function will print the value of the loss function and the performance metrics specified during the compilation of the model. In this case, the `binary_crossentropy` and the `accuracy` respectively."
      ]
    },
    {
      "cell_type": "code",
      "execution_count": null,
      "metadata": {
        "id": "jD6M8db4lP_l",
        "outputId": "31a0febb-20d5-45f6-9554-a5aafd153499"
      },
      "outputs": [
        {
          "name": "stdout",
          "output_type": "stream",
          "text": [
            "5/5 [==============================] - 0s 22ms/step - loss: 1.1599 - accuracy: 0.7400\n"
          ]
        },
        {
          "data": {
            "text/plain": [
              "[1.1598613262176514, 0.7400000095367432]"
            ]
          },
          "execution_count": 11,
          "metadata": {},
          "output_type": "execute_result"
        }
      ],
      "source": [
        "happy_model.evaluate(X_test, Y_test)"
      ]
    },
    {
      "cell_type": "markdown",
      "metadata": {
        "id": "yolQWphllP_l"
      },
      "source": [
        "Easy, right? But what if you need to build a model with shared layers, branches, or multiple inputs and outputs? This is where Sequential, with its beautifully simple yet limited functionality, won't be able to help you.\n",
        "\n",
        "Next up: Enter the Functional API, your slightly more complex, highly flexible friend.  "
      ]
    },
    {
      "cell_type": "markdown",
      "metadata": {
        "id": "TwiMca0NlP_l"
      },
      "source": [
        "<a name='4'></a>\n",
        "## 4 - The Functional API"
      ]
    },
    {
      "cell_type": "markdown",
      "metadata": {
        "id": "DHcntI1ClP_l"
      },
      "source": [
        "Welcome to the second half of the assignment, where you'll use Keras' flexible [Functional API](https://www.tensorflow.org/guide/keras/functional) to build a ConvNet that can differentiate between 6 sign language digits.\n",
        "\n",
        "The Functional API can handle models with non-linear topology, shared layers, as well as layers with multiple inputs or outputs. Imagine that, where the Sequential API requires the model to move in a linear fashion through its layers, the Functional API allows much more flexibility. Where Sequential is a straight line, a Functional model is a graph, where the nodes of the layers can connect in many more ways than one.\n",
        "\n",
        "In the visual example below, the one possible direction of the movement Sequential model is shown in contrast to a skip connection, which is just one of the many ways a Functional model can be constructed. A skip connection, as you might have guessed, skips some layer in the network and feeds the output to a later layer in the network. Don't worry, you'll be spending more time with skip connections very soon!"
      ]
    },
    {
      "cell_type": "markdown",
      "metadata": {
        "id": "zOQ24kvzlP_l"
      },
      "source": [
        "<img src=\"images/seq_vs_func.png\" style=\"width:350px;height:200px;\">"
      ]
    },
    {
      "cell_type": "markdown",
      "metadata": {
        "id": "nSIXWN2dlP_l"
      },
      "source": [
        "<a name='4-1'></a>\n",
        "### 4.1 - Load the SIGNS Dataset\n",
        "\n",
        "As a reminder, the SIGNS dataset is a collection of 6 signs representing numbers from 0 to 5."
      ]
    },
    {
      "cell_type": "code",
      "execution_count": null,
      "metadata": {
        "id": "87fcBnIilP_m"
      },
      "outputs": [],
      "source": [
        "# Loading the data (signs)\n",
        "X_train_orig, Y_train_orig, X_test_orig, Y_test_orig, classes = load_signs_dataset()"
      ]
    },
    {
      "cell_type": "markdown",
      "metadata": {
        "id": "mFJjaYYjlP_m"
      },
      "source": [
        "<img src=\"images/SIGNS.png\" style=\"width:800px;height:300px;\">\n",
        "\n",
        "The next cell will show you an example of a labelled image in the dataset. Feel free to change the value of `index` below and re-run to see different examples."
      ]
    },
    {
      "cell_type": "code",
      "execution_count": null,
      "metadata": {
        "id": "UOUtQX1ylP_m",
        "outputId": "a53db59c-f23f-41e9-8c1f-d2c3abc50d5c"
      },
      "outputs": [
        {
          "name": "stdout",
          "output_type": "stream",
          "text": [
            "y = 4\n"
          ]
        },
        {
          "data": {
            "image/png": "[encoded data removed]",
            "text/plain": [
              "<Figure size 432x288 with 1 Axes>"
            ]
          },
          "metadata": {
            "needs_background": "light"
          },
          "output_type": "display_data"
        }
      ],
      "source": [
        "# Example of an image from the dataset\n",
        "index = 9\n",
        "plt.imshow(X_train_orig[index])\n",
        "print (\"y = \" + str(np.squeeze(Y_train_orig[:, index])))"
      ]
    },
    {
      "cell_type": "markdown",
      "metadata": {
        "id": "v_txoDlLlP_m"
      },
      "source": [
        "<a name='4-2'></a>\n",
        "### 4.2 - Split the Data into Train/Test Sets\n",
        "\n",
        "In Course 2, you built a fully-connected network for this dataset. But since this is an image dataset, it is more natural to apply a ConvNet to it.\n",
        "\n",
        "To get started, let's examine the shapes of your data."
      ]
    },
    {
      "cell_type": "code",
      "execution_count": null,
      "metadata": {
        "id": "YPNwsRbtlP_m",
        "outputId": "39291d17-bdbc-4868-bd44-d0364e5b7dd6"
      },
      "outputs": [
        {
          "name": "stdout",
          "output_type": "stream",
          "text": [
            "number of training examples = 1080\n",
            "number of test examples = 120\n",
            "X_train shape: (1080, 64, 64, 3)\n",
            "Y_train shape: (1080, 6)\n",
            "X_test shape: (120, 64, 64, 3)\n",
            "Y_test shape: (120, 6)\n"
          ]
        }
      ],
      "source": [
        "X_train = X_train_orig/255.\n",
        "X_test = X_test_orig/255.\n",
        "Y_train = convert_to_one_hot(Y_train_orig, 6).T\n",
        "Y_test = convert_to_one_hot(Y_test_orig, 6).T\n",
        "print (\"number of training examples = \" + str(X_train.shape[0]))\n",
        "print (\"number of test examples = \" + str(X_test.shape[0]))\n",
        "print (\"X_train shape: \" + str(X_train.shape))\n",
        "print (\"Y_train shape: \" + str(Y_train.shape))\n",
        "print (\"X_test shape: \" + str(X_test.shape))\n",
        "print (\"Y_test shape: \" + str(Y_test.shape))"
      ]
    },
    {
      "cell_type": "markdown",
      "metadata": {
        "id": "36pZWwOzlP_m"
      },
      "source": [
        "<a name='4-3'></a>\n",
        "### 4.3 - Forward Propagation\n",
        "\n",
        "In TensorFlow, there are built-in functions that implement the convolution steps for you. By now, you should be familiar with how TensorFlow builds computational graphs. In the [Functional API](https://www.tensorflow.org/guide/keras/functional), you create a graph of layers. This is what allows such great flexibility.\n",
        "\n",
        "However, the following model could also be defined using the Sequential API since the information flow is on a single line. But don't deviate. What we want you to learn is to use the functional API.\n",
        "\n",
        "Begin building your graph of layers by creating an input node that functions as a callable object:\n",
        "\n",
        "- **input_img = tf.keras.Input(shape=input_shape):**\n",
        "\n",
        "Then, create a new node in the graph of layers by calling a layer on the `input_img` object:\n",
        "\n",
        "- **tf.keras.layers.Conv2D(filters= ... , kernel_size= ... , padding='same')(input_img):** Read the full documentation on [Conv2D](https://www.tensorflow.org/api_docs/python/tf/keras/layers/Conv2D).\n",
        "\n",
        "- **tf.keras.layers.MaxPool2D(pool_size=(f, f), strides=(s, s), padding='same'):** `MaxPool2D()` downsamples your input using a window of size (f, f) and strides of size (s, s) to carry out max pooling over each window.  For max pooling, you usually operate on a single example at a time and a single channel at a time. Read the full documentation on [MaxPool2D](https://www.tensorflow.org/api_docs/python/tf/keras/layers/MaxPool2D).\n",
        "\n",
        "- **tf.keras.layers.ReLU():** computes the elementwise ReLU of Z (which can be any shape). You can read the full documentation on [ReLU](https://www.tensorflow.org/api_docs/python/tf/keras/layers/ReLU).\n",
        "\n",
        "- **tf.keras.layers.Flatten()**: given a tensor \"P\", this function takes each training (or test) example in the batch and flattens it into a 1D vector.  \n",
        "\n",
        "    * If a tensor P has the shape (batch_size,h,w,c), it returns a flattened tensor with shape (batch_size, k), where $k=h \\times w \\times c$.  \"k\" equals the product of all the dimension sizes other than the first dimension.\n",
        "    \n",
        "    * For example, given a tensor with dimensions [100, 2, 3, 4], it flattens the tensor to be of shape [100, 24], where 24 = 2 * 3 * 4.  You can read the full documentation on [Flatten](https://www.tensorflow.org/api_docs/python/tf/keras/layers/Flatten).\n",
        "\n",
        "- **tf.keras.layers.Dense(units= ... , activation='softmax')(F):** given the flattened input F, it returns the output computed using a fully connected layer. You can read the full documentation on [Dense](https://www.tensorflow.org/api_docs/python/tf/keras/layers/Dense).\n",
        "\n",
        "In the last function above (`tf.keras.layers.Dense()`), the fully connected layer automatically initializes weights in the graph and keeps on training them as you train the model. Hence, you did not need to initialize those weights when initializing the parameters.\n",
        "\n",
        "Lastly, before creating the model, you'll need to define the output using the last of the function's compositions (in this example, a Dense layer):\n",
        "\n",
        "- **outputs = tf.keras.layers.Dense(units=6, activation='softmax')(F)**\n",
        "\n",
        "\n",
        "#### Window, kernel, filter, pool\n",
        "\n",
        "The words \"kernel\" and \"filter\" are used to refer to the same thing. The word \"filter\" accounts for the amount of \"kernels\" that will be used in a single convolution layer. \"Pool\" is the name of the operation that takes the max or average value of the kernels.\n",
        "\n",
        "This is why the parameter `pool_size` refers to `kernel_size`, and you use `(f,f)` to refer to the filter size.\n",
        "\n",
        "Pool size and kernel size refer to the same thing in different objects - They refer to the shape of the window where the operation takes place."
      ]
    },
    {
      "cell_type": "markdown",
      "metadata": {
        "id": "BjeE2Dm0lP_m"
      },
      "source": [
        "<a name='ex-2'></a>\n",
        "### Exercise 2 - convolutional_model\n",
        "\n",
        "Implement the `convolutional_model` function below to build the following model: `CONV2D -> RELU -> MAXPOOL -> CONV2D -> RELU -> MAXPOOL -> FLATTEN -> DENSE`. Use the functions above!\n",
        "\n",
        "Also, plug in the following parameters for all the steps:\n",
        "\n",
        " - [Conv2D](https://www.tensorflow.org/api_docs/python/tf/keras/layers/Conv2D): Use 8 4 by 4 filters, stride 1, padding is \"SAME\"\n",
        " - [ReLU](https://www.tensorflow.org/api_docs/python/tf/keras/layers/ReLU)\n",
        " - [MaxPool2D](https://www.tensorflow.org/api_docs/python/tf/keras/layers/MaxPool2D): Use an 8 by 8 filter size and an 8 by 8 stride, padding is \"SAME\"\n",
        " - **Conv2D**: Use 16 2 by 2 filters, stride 1, padding is \"SAME\"\n",
        " - **ReLU**\n",
        " - **MaxPool2D**: Use a 4 by 4 filter size and a 4 by 4 stride, padding is \"SAME\"\n",
        " - [Flatten](https://www.tensorflow.org/api_docs/python/tf/keras/layers/Flatten) the previous output.\n",
        " - Fully-connected ([Dense](https://www.tensorflow.org/api_docs/python/tf/keras/layers/Dense)) layer: Apply a fully connected layer with 6 neurons and a softmax activation."
      ]
    },
    {
      "cell_type": "code",
      "execution_count": null,
      "metadata": {
        "deletable": false,
        "nbgrader": {
          "cell_type": "code",
          "checksum": "f58643806aa8380c96225fc8b4c5e7aa",
          "grade": false,
          "grade_id": "cell-dac51744a9e03f51",
          "locked": false,
          "schema_version": 3,
          "solution": true,
          "task": false
        },
        "id": "ZqUTyo7tlP_m"
      },
      "outputs": [],
      "source": [
        "# GRADED FUNCTION: convolutional_model\n",
        "\n",
        "def convolutional_model(input_shape):\n",
        "    \"\"\"\n",
        "    Implements the forward propagation for the model:\n",
        "    CONV2D -> RELU -> MAXPOOL -> CONV2D -> RELU -> MAXPOOL -> FLATTEN -> DENSE\n",
        "\n",
        "    Note that for simplicity and grading purposes, you'll hard-code some values\n",
        "    such as the stride and kernel (filter) sizes.\n",
        "    Normally, functions should take these values as function parameters.\n",
        "\n",
        "    Arguments:\n",
        "    input_img -- input dataset, of shape (input_shape)\n",
        "\n",
        "    Returns:\n",
        "    model -- TF Keras model (object containing the information for the entire training process)\n",
        "    \"\"\"\n",
        "\n",
        "    input_img = tf.keras.Input(shape=input_shape)\n",
        "    ## CONV2D: 8 filters 4x4, stride of 1, padding 'SAME'\n",
        "    # Z1 = None\n",
        "    Z1 = Conv2D(8, (4, 4), strides=(1, 1), padding='same')(input_img)\n",
        "\n",
        "    ## RELU\n",
        "    A1 = ReLU()(Z1)\n",
        "    ## MAXPOOL: window 8x8, stride 8, padding 'SAME'\n",
        "    P1 = MaxPooling2D(pool_size=(8, 8), strides=(8, 8), padding='same')(A1)\n",
        "    ## CONV2D: 16 filters 2x2, stride 1, padding 'SAME'\n",
        "    Z2 =  Conv2D(16, (2, 2), strides=(1, 1), padding='same')(P1)\n",
        "    ## RELU\n",
        "    A2 = ReLU()(Z2)\n",
        "    ## MAXPOOL: window 4x4, stride 4, padding 'SAME'\n",
        "    P2 = MaxPooling2D(pool_size=(4, 4), strides=(4, 4), padding='same')(A2)\n",
        "    ## FLATTEN\n",
        "    F = Flatten()(P2)\n",
        "    ## Dense layer\n",
        "    ## 6 neurons in output layer. Hint: one of the arguments should be \"activation='softmax'\"\n",
        "    outputs = Dense(6, activation='softmax')(F)\n",
        "    # YOUR CODE STARTS HERE\n",
        "\n",
        "\n",
        "    # YOUR CODE ENDS HERE\n",
        "    model = tf.keras.Model(inputs=input_img, outputs=outputs)\n",
        "    return model"
      ]
    },
    {
      "cell_type": "code",
      "execution_count": null,
      "metadata": {
        "deletable": false,
        "editable": false,
        "nbgrader": {
          "cell_type": "code",
          "checksum": "483d626949930a0b0ef20997e7c6ba72",
          "grade": true,
          "grade_id": "cell-45d22e92042174c9",
          "locked": true,
          "points": 10,
          "schema_version": 3,
          "solution": false,
          "task": false
        },
        "id": "vVkrynz_lP_m",
        "outputId": "2f61f332-acef-4ef1-ffb4-db30695b0ab7"
      },
      "outputs": [
        {
          "name": "stdout",
          "output_type": "stream",
          "text": [
            "Model: \"functional_1\"\n",
            "_________________________________________________________________\n",
            "Layer (type)                 Output Shape              Param #   \n",
            "=================================================================\n",
            "input_2 (InputLayer)         [(None, 64, 64, 3)]       0         \n",
            "_________________________________________________________________\n",
            "conv2d_2 (Conv2D)            (None, 64, 64, 8)         392       \n",
            "_________________________________________________________________\n",
            "re_lu_2 (ReLU)               (None, 64, 64, 8)         0         \n",
            "_________________________________________________________________\n",
            "max_pooling2d_1 (MaxPooling2 (None, 8, 8, 8)           0         \n",
            "_________________________________________________________________\n",
            "conv2d_3 (Conv2D)            (None, 8, 8, 16)          528       \n",
            "_________________________________________________________________\n",
            "re_lu_3 (ReLU)               (None, 8, 8, 16)          0         \n",
            "_________________________________________________________________\n",
            "max_pooling2d_2 (MaxPooling2 (None, 2, 2, 16)          0         \n",
            "_________________________________________________________________\n",
            "flatten_1 (Flatten)          (None, 64)                0         \n",
            "_________________________________________________________________\n",
            "dense_1 (Dense)              (None, 6)                 390       \n",
            "=================================================================\n",
            "Total params: 1,310\n",
            "Trainable params: 1,310\n",
            "Non-trainable params: 0\n",
            "_________________________________________________________________\n",
            "\u001b[32mAll tests passed!\u001b[0m\n"
          ]
        }
      ],
      "source": [
        "conv_model = convolutional_model((64, 64, 3))\n",
        "conv_model.compile(optimizer='adam',\n",
        "                  loss='categorical_crossentropy',\n",
        "                  metrics=['accuracy'])\n",
        "conv_model.summary()\n",
        "\n",
        "output = [['InputLayer', [(None, 64, 64, 3)], 0],\n",
        "        ['Conv2D', (None, 64, 64, 8), 392, 'same', 'linear', 'GlorotUniform'],\n",
        "        ['ReLU', (None, 64, 64, 8), 0],\n",
        "        ['MaxPooling2D', (None, 8, 8, 8), 0, (8, 8), (8, 8), 'same'],\n",
        "        ['Conv2D', (None, 8, 8, 16), 528, 'same', 'linear', 'GlorotUniform'],\n",
        "        ['ReLU', (None, 8, 8, 16), 0],\n",
        "        ['MaxPooling2D', (None, 2, 2, 16), 0, (4, 4), (4, 4), 'same'],\n",
        "        ['Flatten', (None, 64), 0],\n",
        "        ['Dense', (None, 6), 390, 'softmax']]\n",
        "\n",
        "comparator(summary(conv_model), output)"
      ]
    },
    {
      "cell_type": "markdown",
      "metadata": {
        "id": "IPn05cIElP_m"
      },
      "source": [
        "Both the Sequential and Functional APIs return a TF Keras model object. The only difference is how inputs are handled inside the object model!"
      ]
    },
    {
      "cell_type": "markdown",
      "metadata": {
        "id": "Wy5qVti_lP_m"
      },
      "source": [
        "<a name='4-4'></a>\n",
        "### 4.4 - Train the Model"
      ]
    },
    {
      "cell_type": "code",
      "execution_count": null,
      "metadata": {
        "id": "D8yzcqUolP_n",
        "outputId": "a5393d5b-dd57-4b9d-c042-74495242f155"
      },
      "outputs": [
        {
          "name": "stdout",
          "output_type": "stream",
          "text": [
            "Epoch 1/100\n",
            "17/17 [==============================] - 2s 112ms/step - loss: 1.8003 - accuracy: 0.1630 - val_loss: 1.7842 - val_accuracy: 0.1667\n",
            "Epoch 2/100\n",
            "17/17 [==============================] - 2s 112ms/step - loss: 1.7790 - accuracy: 0.2148 - val_loss: 1.7776 - val_accuracy: 0.1917\n",
            "Epoch 3/100\n",
            "17/17 [==============================] - 2s 111ms/step - loss: 1.7736 - accuracy: 0.2574 - val_loss: 1.7726 - val_accuracy: 0.2500\n",
            "Epoch 4/100\n",
            "17/17 [==============================] - 2s 112ms/step - loss: 1.7683 - accuracy: 0.2704 - val_loss: 1.7671 - val_accuracy: 0.2917\n",
            "Epoch 5/100\n",
            "17/17 [==============================] - 2s 106ms/step - loss: 1.7622 - accuracy: 0.3093 - val_loss: 1.7610 - val_accuracy: 0.2833\n",
            "Epoch 6/100\n",
            "17/17 [==============================] - 2s 106ms/step - loss: 1.7548 - accuracy: 0.3343 - val_loss: 1.7536 - val_accuracy: 0.2833\n",
            "Epoch 7/100\n",
            "17/17 [==============================] - 2s 112ms/step - loss: 1.7457 - accuracy: 0.3704 - val_loss: 1.7445 - val_accuracy: 0.3083\n",
            "Epoch 8/100\n",
            "17/17 [==============================] - 2s 106ms/step - loss: 1.7356 - accuracy: 0.3546 - val_loss: 1.7329 - val_accuracy: 0.3333\n",
            "Epoch 9/100\n",
            "17/17 [==============================] - 2s 112ms/step - loss: 1.7233 - accuracy: 0.3759 - val_loss: 1.7194 - val_accuracy: 0.3500\n",
            "Epoch 10/100\n",
            "17/17 [==============================] - 2s 112ms/step - loss: 1.7075 - accuracy: 0.4046 - val_loss: 1.7015 - val_accuracy: 0.3667\n",
            "Epoch 11/100\n",
            "17/17 [==============================] - 2s 113ms/step - loss: 1.6892 - accuracy: 0.3991 - val_loss: 1.6814 - val_accuracy: 0.3750\n",
            "Epoch 12/100\n",
            "17/17 [==============================] - 2s 112ms/step - loss: 1.6687 - accuracy: 0.4056 - val_loss: 1.6578 - val_accuracy: 0.3667\n",
            "Epoch 13/100\n",
            "17/17 [==============================] - 2s 107ms/step - loss: 1.6443 - accuracy: 0.4259 - val_loss: 1.6300 - val_accuracy: 0.4250\n",
            "Epoch 14/100\n",
            "17/17 [==============================] - 2s 112ms/step - loss: 1.6176 - accuracy: 0.4426 - val_loss: 1.6005 - val_accuracy: 0.4167\n",
            "Epoch 15/100\n",
            "17/17 [==============================] - 2s 112ms/step - loss: 1.5858 - accuracy: 0.4407 - val_loss: 1.5646 - val_accuracy: 0.4167\n",
            "Epoch 16/100\n",
            "17/17 [==============================] - 2s 112ms/step - loss: 1.5499 - accuracy: 0.4537 - val_loss: 1.5290 - val_accuracy: 0.4500\n",
            "Epoch 17/100\n",
            "17/17 [==============================] - 2s 112ms/step - loss: 1.5116 - accuracy: 0.4630 - val_loss: 1.4906 - val_accuracy: 0.4500\n",
            "Epoch 18/100\n",
            "17/17 [==============================] - 2s 112ms/step - loss: 1.4703 - accuracy: 0.4852 - val_loss: 1.4477 - val_accuracy: 0.4750\n",
            "Epoch 19/100\n",
            "17/17 [==============================] - 2s 112ms/step - loss: 1.4303 - accuracy: 0.5019 - val_loss: 1.4064 - val_accuracy: 0.4833\n",
            "Epoch 20/100\n",
            "17/17 [==============================] - 2s 107ms/step - loss: 1.3905 - accuracy: 0.5194 - val_loss: 1.3703 - val_accuracy: 0.5000\n",
            "Epoch 21/100\n",
            "17/17 [==============================] - 2s 107ms/step - loss: 1.3529 - accuracy: 0.5296 - val_loss: 1.3380 - val_accuracy: 0.4917\n",
            "Epoch 22/100\n",
            "17/17 [==============================] - 2s 112ms/step - loss: 1.3163 - accuracy: 0.5306 - val_loss: 1.3026 - val_accuracy: 0.5000\n",
            "Epoch 23/100\n",
            "17/17 [==============================] - 2s 117ms/step - loss: 1.2814 - accuracy: 0.5407 - val_loss: 1.2726 - val_accuracy: 0.5083\n",
            "Epoch 24/100\n",
            "17/17 [==============================] - 2s 112ms/step - loss: 1.2484 - accuracy: 0.5574 - val_loss: 1.2405 - val_accuracy: 0.5250\n",
            "Epoch 25/100\n",
            "17/17 [==============================] - 2s 107ms/step - loss: 1.2150 - accuracy: 0.5648 - val_loss: 1.2122 - val_accuracy: 0.5333\n",
            "Epoch 26/100\n",
            "17/17 [==============================] - 2s 112ms/step - loss: 1.1852 - accuracy: 0.5815 - val_loss: 1.1834 - val_accuracy: 0.5417\n",
            "Epoch 27/100\n",
            "17/17 [==============================] - 2s 112ms/step - loss: 1.1564 - accuracy: 0.5944 - val_loss: 1.1613 - val_accuracy: 0.5333\n",
            "Epoch 28/100\n",
            "17/17 [==============================] - 2s 106ms/step - loss: 1.1303 - accuracy: 0.6009 - val_loss: 1.1389 - val_accuracy: 0.5417\n",
            "Epoch 29/100\n",
            "17/17 [==============================] - 2s 112ms/step - loss: 1.1040 - accuracy: 0.6204 - val_loss: 1.1154 - val_accuracy: 0.5750\n",
            "Epoch 30/100\n",
            "17/17 [==============================] - 2s 107ms/step - loss: 1.0819 - accuracy: 0.6269 - val_loss: 1.0964 - val_accuracy: 0.5750\n",
            "Epoch 31/100\n",
            "17/17 [==============================] - 2s 107ms/step - loss: 1.0573 - accuracy: 0.6343 - val_loss: 1.0764 - val_accuracy: 0.5667\n",
            "Epoch 32/100\n",
            "17/17 [==============================] - 2s 112ms/step - loss: 1.0343 - accuracy: 0.6407 - val_loss: 1.0569 - val_accuracy: 0.5833\n",
            "Epoch 33/100\n",
            "17/17 [==============================] - 2s 107ms/step - loss: 1.0093 - accuracy: 0.6463 - val_loss: 1.0372 - val_accuracy: 0.5917\n",
            "Epoch 34/100\n",
            "17/17 [==============================] - 2s 111ms/step - loss: 0.9860 - accuracy: 0.6537 - val_loss: 1.0172 - val_accuracy: 0.6083\n",
            "Epoch 35/100\n",
            "17/17 [==============================] - 2s 107ms/step - loss: 0.9636 - accuracy: 0.6593 - val_loss: 0.9997 - val_accuracy: 0.6250\n",
            "Epoch 36/100\n",
            "17/17 [==============================] - 2s 112ms/step - loss: 0.9440 - accuracy: 0.6611 - val_loss: 0.9820 - val_accuracy: 0.6250\n",
            "Epoch 37/100\n",
            "17/17 [==============================] - 2s 112ms/step - loss: 0.9250 - accuracy: 0.6713 - val_loss: 0.9659 - val_accuracy: 0.6167\n",
            "Epoch 38/100\n",
            "17/17 [==============================] - 2s 111ms/step - loss: 0.9069 - accuracy: 0.6787 - val_loss: 0.9516 - val_accuracy: 0.6250\n",
            "Epoch 39/100\n",
            "17/17 [==============================] - 2s 111ms/step - loss: 0.8896 - accuracy: 0.6833 - val_loss: 0.9371 - val_accuracy: 0.6417\n",
            "Epoch 40/100\n",
            "17/17 [==============================] - 2s 117ms/step - loss: 0.8745 - accuracy: 0.6963 - val_loss: 0.9233 - val_accuracy: 0.6500\n",
            "Epoch 41/100\n",
            "17/17 [==============================] - 2s 112ms/step - loss: 0.8592 - accuracy: 0.7009 - val_loss: 0.9116 - val_accuracy: 0.6667\n",
            "Epoch 42/100\n",
            "17/17 [==============================] - 2s 112ms/step - loss: 0.8457 - accuracy: 0.7056 - val_loss: 0.8998 - val_accuracy: 0.6750\n",
            "Epoch 43/100\n",
            "17/17 [==============================] - 2s 112ms/step - loss: 0.8318 - accuracy: 0.7102 - val_loss: 0.8890 - val_accuracy: 0.6833\n",
            "Epoch 44/100\n",
            "17/17 [==============================] - 2s 112ms/step - loss: 0.8192 - accuracy: 0.7167 - val_loss: 0.8767 - val_accuracy: 0.6917\n",
            "Epoch 45/100\n",
            "17/17 [==============================] - 2s 112ms/step - loss: 0.8067 - accuracy: 0.7241 - val_loss: 0.8673 - val_accuracy: 0.6917\n",
            "Epoch 46/100\n",
            "17/17 [==============================] - 2s 107ms/step - loss: 0.7956 - accuracy: 0.7287 - val_loss: 0.8573 - val_accuracy: 0.7000\n",
            "Epoch 47/100\n",
            "17/17 [==============================] - 2s 112ms/step - loss: 0.7839 - accuracy: 0.7324 - val_loss: 0.8481 - val_accuracy: 0.7000\n",
            "Epoch 48/100\n",
            "17/17 [==============================] - 2s 112ms/step - loss: 0.7735 - accuracy: 0.7343 - val_loss: 0.8392 - val_accuracy: 0.7000\n",
            "Epoch 49/100\n",
            "17/17 [==============================] - 2s 106ms/step - loss: 0.7638 - accuracy: 0.7361 - val_loss: 0.8319 - val_accuracy: 0.7000\n",
            "Epoch 50/100\n",
            "17/17 [==============================] - 2s 106ms/step - loss: 0.7540 - accuracy: 0.7407 - val_loss: 0.8227 - val_accuracy: 0.7083\n",
            "Epoch 51/100\n",
            "17/17 [==============================] - 2s 107ms/step - loss: 0.7450 - accuracy: 0.7435 - val_loss: 0.8152 - val_accuracy: 0.7083\n",
            "Epoch 52/100\n",
            "17/17 [==============================] - 2s 107ms/step - loss: 0.7359 - accuracy: 0.7454 - val_loss: 0.8075 - val_accuracy: 0.7167\n",
            "Epoch 53/100\n",
            "17/17 [==============================] - 2s 112ms/step - loss: 0.7272 - accuracy: 0.7500 - val_loss: 0.8005 - val_accuracy: 0.7167\n",
            "Epoch 54/100\n",
            "17/17 [==============================] - 2s 107ms/step - loss: 0.7185 - accuracy: 0.7556 - val_loss: 0.7943 - val_accuracy: 0.7250\n",
            "Epoch 55/100\n",
            "17/17 [==============================] - 2s 112ms/step - loss: 0.7108 - accuracy: 0.7583 - val_loss: 0.7878 - val_accuracy: 0.7250\n",
            "Epoch 56/100\n",
            "17/17 [==============================] - 2s 107ms/step - loss: 0.7029 - accuracy: 0.7602 - val_loss: 0.7812 - val_accuracy: 0.7250\n",
            "Epoch 57/100\n",
            "17/17 [==============================] - 2s 112ms/step - loss: 0.6950 - accuracy: 0.7657 - val_loss: 0.7751 - val_accuracy: 0.7083\n",
            "Epoch 58/100\n",
            "17/17 [==============================] - 2s 112ms/step - loss: 0.6878 - accuracy: 0.7704 - val_loss: 0.7690 - val_accuracy: 0.7250\n",
            "Epoch 59/100\n",
            "17/17 [==============================] - 2s 112ms/step - loss: 0.6809 - accuracy: 0.7731 - val_loss: 0.7626 - val_accuracy: 0.7250\n",
            "Epoch 60/100\n",
            "17/17 [==============================] - 2s 112ms/step - loss: 0.6736 - accuracy: 0.7750 - val_loss: 0.7569 - val_accuracy: 0.7250\n",
            "Epoch 61/100\n",
            "17/17 [==============================] - 2s 112ms/step - loss: 0.6668 - accuracy: 0.7806 - val_loss: 0.7514 - val_accuracy: 0.7333\n",
            "Epoch 62/100\n",
            "17/17 [==============================] - 2s 112ms/step - loss: 0.6604 - accuracy: 0.7824 - val_loss: 0.7458 - val_accuracy: 0.7500\n",
            "Epoch 63/100\n",
            "17/17 [==============================] - 2s 107ms/step - loss: 0.6541 - accuracy: 0.7852 - val_loss: 0.7404 - val_accuracy: 0.7583\n",
            "Epoch 64/100\n",
            "17/17 [==============================] - 2s 112ms/step - loss: 0.6480 - accuracy: 0.7870 - val_loss: 0.7356 - val_accuracy: 0.7583\n",
            "Epoch 65/100\n",
            "17/17 [==============================] - 2s 111ms/step - loss: 0.6420 - accuracy: 0.7880 - val_loss: 0.7304 - val_accuracy: 0.7667\n",
            "Epoch 66/100\n",
            "17/17 [==============================] - 2s 111ms/step - loss: 0.6359 - accuracy: 0.7898 - val_loss: 0.7252 - val_accuracy: 0.7667\n",
            "Epoch 67/100\n",
            "17/17 [==============================] - 2s 112ms/step - loss: 0.6302 - accuracy: 0.7907 - val_loss: 0.7206 - val_accuracy: 0.7667\n",
            "Epoch 68/100\n",
            "17/17 [==============================] - 2s 112ms/step - loss: 0.6248 - accuracy: 0.7917 - val_loss: 0.7166 - val_accuracy: 0.7667\n",
            "Epoch 69/100\n",
            "17/17 [==============================] - 2s 111ms/step - loss: 0.6195 - accuracy: 0.7917 - val_loss: 0.7126 - val_accuracy: 0.7667\n",
            "Epoch 70/100\n",
            "17/17 [==============================] - 2s 112ms/step - loss: 0.6142 - accuracy: 0.7926 - val_loss: 0.7085 - val_accuracy: 0.7667\n",
            "Epoch 71/100\n",
            "17/17 [==============================] - 2s 112ms/step - loss: 0.6093 - accuracy: 0.7954 - val_loss: 0.7053 - val_accuracy: 0.7667\n",
            "Epoch 72/100\n",
            "17/17 [==============================] - 2s 112ms/step - loss: 0.6046 - accuracy: 0.7935 - val_loss: 0.7012 - val_accuracy: 0.7750\n",
            "Epoch 73/100\n",
            "17/17 [==============================] - 2s 112ms/step - loss: 0.5999 - accuracy: 0.7972 - val_loss: 0.6981 - val_accuracy: 0.7667\n",
            "Epoch 74/100\n",
            "17/17 [==============================] - 2s 108ms/step - loss: 0.5954 - accuracy: 0.7981 - val_loss: 0.6945 - val_accuracy: 0.7750\n",
            "Epoch 75/100\n",
            "17/17 [==============================] - 2s 111ms/step - loss: 0.5905 - accuracy: 0.7991 - val_loss: 0.6910 - val_accuracy: 0.7667\n",
            "Epoch 76/100\n",
            "17/17 [==============================] - 2s 112ms/step - loss: 0.5857 - accuracy: 0.8019 - val_loss: 0.6879 - val_accuracy: 0.7667\n",
            "Epoch 77/100\n",
            "17/17 [==============================] - 2s 112ms/step - loss: 0.5818 - accuracy: 0.8019 - val_loss: 0.6843 - val_accuracy: 0.7667\n",
            "Epoch 78/100\n",
            "17/17 [==============================] - 2s 107ms/step - loss: 0.5774 - accuracy: 0.8065 - val_loss: 0.6808 - val_accuracy: 0.7667\n",
            "Epoch 79/100\n",
            "17/17 [==============================] - 2s 111ms/step - loss: 0.5730 - accuracy: 0.8056 - val_loss: 0.6772 - val_accuracy: 0.7667\n",
            "Epoch 80/100\n",
            "17/17 [==============================] - 2s 112ms/step - loss: 0.5689 - accuracy: 0.8093 - val_loss: 0.6746 - val_accuracy: 0.7833\n",
            "Epoch 81/100\n",
            "17/17 [==============================] - 2s 112ms/step - loss: 0.5648 - accuracy: 0.8111 - val_loss: 0.6711 - val_accuracy: 0.7917\n",
            "Epoch 82/100\n",
            "17/17 [==============================] - 2s 112ms/step - loss: 0.5606 - accuracy: 0.8130 - val_loss: 0.6680 - val_accuracy: 0.7917\n",
            "Epoch 83/100\n",
            "17/17 [==============================] - 2s 112ms/step - loss: 0.5566 - accuracy: 0.8130 - val_loss: 0.6657 - val_accuracy: 0.7917\n",
            "Epoch 84/100\n",
            "17/17 [==============================] - 2s 107ms/step - loss: 0.5527 - accuracy: 0.8148 - val_loss: 0.6631 - val_accuracy: 0.7917\n",
            "Epoch 85/100\n",
            "17/17 [==============================] - 2s 112ms/step - loss: 0.5492 - accuracy: 0.8176 - val_loss: 0.6608 - val_accuracy: 0.7917\n",
            "Epoch 86/100\n",
            "17/17 [==============================] - 2s 112ms/step - loss: 0.5454 - accuracy: 0.8194 - val_loss: 0.6580 - val_accuracy: 0.7917\n",
            "Epoch 87/100\n",
            "17/17 [==============================] - 2s 111ms/step - loss: 0.5418 - accuracy: 0.8204 - val_loss: 0.6559 - val_accuracy: 0.7833\n",
            "Epoch 88/100\n",
            "17/17 [==============================] - 2s 112ms/step - loss: 0.5383 - accuracy: 0.8213 - val_loss: 0.6526 - val_accuracy: 0.7750\n",
            "Epoch 89/100\n",
            "17/17 [==============================] - 2s 108ms/step - loss: 0.5347 - accuracy: 0.8222 - val_loss: 0.6506 - val_accuracy: 0.7750\n",
            "Epoch 90/100\n",
            "17/17 [==============================] - 2s 112ms/step - loss: 0.5314 - accuracy: 0.8222 - val_loss: 0.6481 - val_accuracy: 0.7750\n",
            "Epoch 91/100\n",
            "17/17 [==============================] - 2s 107ms/step - loss: 0.5281 - accuracy: 0.8231 - val_loss: 0.6458 - val_accuracy: 0.7750\n",
            "Epoch 92/100\n",
            "17/17 [==============================] - 2s 112ms/step - loss: 0.5248 - accuracy: 0.8231 - val_loss: 0.6437 - val_accuracy: 0.7750\n",
            "Epoch 93/100\n",
            "17/17 [==============================] - 2s 111ms/step - loss: 0.5217 - accuracy: 0.8241 - val_loss: 0.6413 - val_accuracy: 0.7750\n",
            "Epoch 94/100\n",
            "17/17 [==============================] - 2s 106ms/step - loss: 0.5187 - accuracy: 0.8241 - val_loss: 0.6396 - val_accuracy: 0.7750\n",
            "Epoch 95/100\n",
            "17/17 [==============================] - 2s 107ms/step - loss: 0.5157 - accuracy: 0.8231 - val_loss: 0.6372 - val_accuracy: 0.7750\n",
            "Epoch 96/100\n",
            "17/17 [==============================] - 2s 107ms/step - loss: 0.5125 - accuracy: 0.8231 - val_loss: 0.6352 - val_accuracy: 0.7750\n",
            "Epoch 97/100\n",
            "17/17 [==============================] - 2s 107ms/step - loss: 0.5097 - accuracy: 0.8231 - val_loss: 0.6334 - val_accuracy: 0.7750\n",
            "Epoch 98/100\n",
            "17/17 [==============================] - 2s 107ms/step - loss: 0.5065 - accuracy: 0.8250 - val_loss: 0.6316 - val_accuracy: 0.7750\n",
            "Epoch 99/100\n",
            "17/17 [==============================] - 2s 107ms/step - loss: 0.5036 - accuracy: 0.8241 - val_loss: 0.6298 - val_accuracy: 0.7750\n",
            "Epoch 100/100\n",
            "17/17 [==============================] - 2s 106ms/step - loss: 0.5005 - accuracy: 0.8278 - val_loss: 0.6281 - val_accuracy: 0.7750\n"
          ]
        }
      ],
      "source": [
        "train_dataset = tf.data.Dataset.from_tensor_slices((X_train, Y_train)).batch(64)\n",
        "test_dataset = tf.data.Dataset.from_tensor_slices((X_test, Y_test)).batch(64)\n",
        "history = conv_model.fit(train_dataset, epochs=100, validation_data=test_dataset)"
      ]
    },
    {
      "cell_type": "markdown",
      "metadata": {
        "id": "vUJTNfIulP_n"
      },
      "source": [
        "<a name='5'></a>\n",
        "## 5 - History Object\n",
        "\n",
        "The history object is an output of the `.fit()` operation, and provides a record of all the loss and metric values in memory. It's stored as a dictionary that you can retrieve at `history.history`:"
      ]
    },
    {
      "cell_type": "code",
      "execution_count": null,
      "metadata": {
        "id": "Q8WDV67KlP_n",
        "outputId": "a288ebc0-f420-4af7-91dc-0238b99b04e4"
      },
      "outputs": [
        {
          "data": {
            "text/plain": [
              "{'loss': [1.8003489971160889,\n",
              "  1.7790189981460571,\n",
              "  1.7736163139343262,\n",
              "  1.7682594060897827,\n",
              "  1.762232780456543,\n",
              "  1.7547509670257568,\n",
              "  1.7457252740859985,\n",
              "  1.7356191873550415,\n",
              "  1.7232520580291748,\n",
              "  1.7075448036193848,\n",
              "  1.6892471313476562,\n",
              "  1.6686906814575195,\n",
              "  1.6443421840667725,\n",
              "  1.6175745725631714,\n",
              "  1.5858334302902222,\n",
              "  1.5499063730239868,\n",
              "  1.5115970373153687,\n",
              "  1.4703185558319092,\n",
              "  1.4303309917449951,\n",
              "  1.3904756307601929,\n",
              "  1.352882742881775,\n",
              "  1.3162567615509033,\n",
              "  1.281442642211914,\n",
              "  1.2483596801757812,\n",
              "  1.2150088548660278,\n",
              "  1.1852158308029175,\n",
              "  1.1564167737960815,\n",
              "  1.1302669048309326,\n",
              "  1.1040364503860474,\n",
              "  1.0819491147994995,\n",
              "  1.0572900772094727,\n",
              "  1.034346342086792,\n",
              "  1.0092755556106567,\n",
              "  0.9860014915466309,\n",
              "  0.9636486172676086,\n",
              "  0.943952739238739,\n",
              "  0.9250328540802002,\n",
              "  0.9068774580955505,\n",
              "  0.8896146416664124,\n",
              "  0.8744881749153137,\n",
              "  0.8591999411582947,\n",
              "  0.8456771373748779,\n",
              "  0.8318490386009216,\n",
              "  0.8192018270492554,\n",
              "  0.8067240118980408,\n",
              "  0.7956418395042419,\n",
              "  0.7839065194129944,\n",
              "  0.7735353112220764,\n",
              "  0.763789176940918,\n",
              "  0.754020631313324,\n",
              "  0.7449908256530762,\n",
              "  0.7358642816543579,\n",
              "  0.7272172570228577,\n",
              "  0.7185325622558594,\n",
              "  0.7108170390129089,\n",
              "  0.7029487490653992,\n",
              "  0.6949974894523621,\n",
              "  0.6877978444099426,\n",
              "  0.6808870434761047,\n",
              "  0.6736354231834412,\n",
              "  0.666775107383728,\n",
              "  0.6604097485542297,\n",
              "  0.654094934463501,\n",
              "  0.6479558944702148,\n",
              "  0.6420122385025024,\n",
              "  0.6359478235244751,\n",
              "  0.6302056908607483,\n",
              "  0.6248483657836914,\n",
              "  0.6194607019424438,\n",
              "  0.6142162084579468,\n",
              "  0.609254777431488,\n",
              "  0.6046280264854431,\n",
              "  0.599887490272522,\n",
              "  0.5953621864318848,\n",
              "  0.5905221700668335,\n",
              "  0.5857365131378174,\n",
              "  0.5818043947219849,\n",
              "  0.5773909687995911,\n",
              "  0.5730100274085999,\n",
              "  0.5689472556114197,\n",
              "  0.5647873282432556,\n",
              "  0.5605545043945312,\n",
              "  0.5565932393074036,\n",
              "  0.5527060031890869,\n",
              "  0.5491929650306702,\n",
              "  0.5454134941101074,\n",
              "  0.5417633652687073,\n",
              "  0.5382982492446899,\n",
              "  0.5346813797950745,\n",
              "  0.5314193367958069,\n",
              "  0.528148889541626,\n",
              "  0.524840235710144,\n",
              "  0.5217159986495972,\n",
              "  0.5187342166900635,\n",
              "  0.5156845450401306,\n",
              "  0.5125324726104736,\n",
              "  0.5096865892410278,\n",
              "  0.5065400004386902,\n",
              "  0.5035691261291504,\n",
              "  0.5005093812942505],\n",
              " 'accuracy': [0.16296295821666718,\n",
              "  0.21481481194496155,\n",
              "  0.25740739703178406,\n",
              "  0.27037036418914795,\n",
              "  0.3092592656612396,\n",
              "  0.3342592716217041,\n",
              "  0.37037035822868347,\n",
              "  0.35462963581085205,\n",
              "  0.3759259283542633,\n",
              "  0.4046296179294586,\n",
              "  0.39907407760620117,\n",
              "  0.4055555462837219,\n",
              "  0.42592594027519226,\n",
              "  0.442592591047287,\n",
              "  0.4407407343387604,\n",
              "  0.45370370149612427,\n",
              "  0.46296295523643494,\n",
              "  0.4851851761341095,\n",
              "  0.5018518567085266,\n",
              "  0.519444465637207,\n",
              "  0.529629647731781,\n",
              "  0.5305555462837219,\n",
              "  0.5407407283782959,\n",
              "  0.5574073791503906,\n",
              "  0.5648148059844971,\n",
              "  0.5814814567565918,\n",
              "  0.5944444537162781,\n",
              "  0.6009259223937988,\n",
              "  0.6203703880310059,\n",
              "  0.6268518567085266,\n",
              "  0.6342592835426331,\n",
              "  0.6407407522201538,\n",
              "  0.6462963223457336,\n",
              "  0.6537036895751953,\n",
              "  0.6592592597007751,\n",
              "  0.6611111164093018,\n",
              "  0.6712962985038757,\n",
              "  0.6787037253379822,\n",
              "  0.6833333373069763,\n",
              "  0.6962962746620178,\n",
              "  0.7009259462356567,\n",
              "  0.7055555582046509,\n",
              "  0.710185170173645,\n",
              "  0.7166666388511658,\n",
              "  0.7240740656852722,\n",
              "  0.7287036776542664,\n",
              "  0.7324073910713196,\n",
              "  0.7342592477798462,\n",
              "  0.7361111044883728,\n",
              "  0.7407407164573669,\n",
              "  0.7435185313224792,\n",
              "  0.7453703880310059,\n",
              "  0.75,\n",
              "  0.7555555701255798,\n",
              "  0.7583333253860474,\n",
              "  0.760185182094574,\n",
              "  0.7657407522201538,\n",
              "  0.770370364189148,\n",
              "  0.7731481194496155,\n",
              "  0.7749999761581421,\n",
              "  0.7805555462837219,\n",
              "  0.7824074029922485,\n",
              "  0.7851851582527161,\n",
              "  0.7870370149612427,\n",
              "  0.7879629731178284,\n",
              "  0.789814829826355,\n",
              "  0.7907407283782959,\n",
              "  0.7916666865348816,\n",
              "  0.7916666865348816,\n",
              "  0.7925925850868225,\n",
              "  0.7953703999519348,\n",
              "  0.7935185432434082,\n",
              "  0.7972221970558167,\n",
              "  0.7981481552124023,\n",
              "  0.7990740537643433,\n",
              "  0.8018518686294556,\n",
              "  0.8018518686294556,\n",
              "  0.8064814805984497,\n",
              "  0.8055555820465088,\n",
              "  0.8092592358589172,\n",
              "  0.8111110925674438,\n",
              "  0.8129629492759705,\n",
              "  0.8129629492759705,\n",
              "  0.8148148059844971,\n",
              "  0.8175926208496094,\n",
              "  0.8194444179534912,\n",
              "  0.8203703761100769,\n",
              "  0.8212962746620178,\n",
              "  0.8222222328186035,\n",
              "  0.8222222328186035,\n",
              "  0.8231481313705444,\n",
              "  0.8231481313705444,\n",
              "  0.8240740895271301,\n",
              "  0.8240740895271301,\n",
              "  0.8231481313705444,\n",
              "  0.8231481313705444,\n",
              "  0.8231481313705444,\n",
              "  0.824999988079071,\n",
              "  0.8240740895271301,\n",
              "  0.8277778029441833],\n",
              " 'val_loss': [1.7842429876327515,\n",
              "  1.77755868434906,\n",
              "  1.7725616693496704,\n",
              "  1.7671310901641846,\n",
              "  1.7610361576080322,\n",
              "  1.75356125831604,\n",
              "  1.7445331811904907,\n",
              "  1.7329293489456177,\n",
              "  1.7194435596466064,\n",
              "  1.7014750242233276,\n",
              "  1.6813877820968628,\n",
              "  1.6578218936920166,\n",
              "  1.6300157308578491,\n",
              "  1.6005147695541382,\n",
              "  1.5646440982818604,\n",
              "  1.5289703607559204,\n",
              "  1.490613341331482,\n",
              "  1.4476913213729858,\n",
              "  1.4063990116119385,\n",
              "  1.3702921867370605,\n",
              "  1.3379547595977783,\n",
              "  1.3025873899459839,\n",
              "  1.2725802659988403,\n",
              "  1.240546464920044,\n",
              "  1.2121827602386475,\n",
              "  1.1834498643875122,\n",
              "  1.1613110303878784,\n",
              "  1.1389118432998657,\n",
              "  1.1153709888458252,\n",
              "  1.096405029296875,\n",
              "  1.0764391422271729,\n",
              "  1.0568711757659912,\n",
              "  1.0371757745742798,\n",
              "  1.017176866531372,\n",
              "  0.9997493624687195,\n",
              "  0.9819945693016052,\n",
              "  0.9658686518669128,\n",
              "  0.9516310095787048,\n",
              "  0.9370519518852234,\n",
              "  0.9232926964759827,\n",
              "  0.9116080403327942,\n",
              "  0.8997968435287476,\n",
              "  0.8889575600624084,\n",
              "  0.8766909837722778,\n",
              "  0.867289662361145,\n",
              "  0.857296884059906,\n",
              "  0.8481435179710388,\n",
              "  0.839248538017273,\n",
              "  0.8318673372268677,\n",
              "  0.8226802945137024,\n",
              "  0.8152348399162292,\n",
              "  0.807501494884491,\n",
              "  0.8004922866821289,\n",
              "  0.794254720211029,\n",
              "  0.7878453135490417,\n",
              "  0.7811582088470459,\n",
              "  0.775146484375,\n",
              "  0.769035279750824,\n",
              "  0.7626256346702576,\n",
              "  0.7568945288658142,\n",
              "  0.7513848543167114,\n",
              "  0.7458447217941284,\n",
              "  0.7404341101646423,\n",
              "  0.7355511784553528,\n",
              "  0.7304292321205139,\n",
              "  0.7252464294433594,\n",
              "  0.7205866575241089,\n",
              "  0.7166363000869751,\n",
              "  0.7125707268714905,\n",
              "  0.7085296511650085,\n",
              "  0.7052879333496094,\n",
              "  0.7011703848838806,\n",
              "  0.69808030128479,\n",
              "  0.6945125460624695,\n",
              "  0.6909790635108948,\n",
              "  0.6878945827484131,\n",
              "  0.6843006610870361,\n",
              "  0.6808177828788757,\n",
              "  0.6772291660308838,\n",
              "  0.6745956540107727,\n",
              "  0.6710637807846069,\n",
              "  0.6680423617362976,\n",
              "  0.6656678318977356,\n",
              "  0.6630808711051941,\n",
              "  0.6607697606086731,\n",
              "  0.6579964756965637,\n",
              "  0.6558507680892944,\n",
              "  0.6525772213935852,\n",
              "  0.6505746245384216,\n",
              "  0.648119330406189,\n",
              "  0.6457813382148743,\n",
              "  0.6437057852745056,\n",
              "  0.6413328647613525,\n",
              "  0.6395641565322876,\n",
              "  0.6372394561767578,\n",
              "  0.6352392435073853,\n",
              "  0.6334391236305237,\n",
              "  0.6315568089485168,\n",
              "  0.6298038959503174,\n",
              "  0.6281112432479858],\n",
              " 'val_accuracy': [0.1666666716337204,\n",
              "  0.19166666269302368,\n",
              "  0.25,\n",
              "  0.2916666567325592,\n",
              "  0.28333333134651184,\n",
              "  0.28333333134651184,\n",
              "  0.3083333373069763,\n",
              "  0.3333333432674408,\n",
              "  0.3499999940395355,\n",
              "  0.36666667461395264,\n",
              "  0.375,\n",
              "  0.36666667461395264,\n",
              "  0.42500001192092896,\n",
              "  0.4166666567325592,\n",
              "  0.4166666567325592,\n",
              "  0.44999998807907104,\n",
              "  0.44999998807907104,\n",
              "  0.4749999940395355,\n",
              "  0.4833333194255829,\n",
              "  0.5,\n",
              "  0.49166667461395264,\n",
              "  0.5,\n",
              "  0.5083333253860474,\n",
              "  0.5249999761581421,\n",
              "  0.5333333611488342,\n",
              "  0.5416666865348816,\n",
              "  0.5333333611488342,\n",
              "  0.5416666865348816,\n",
              "  0.574999988079071,\n",
              "  0.574999988079071,\n",
              "  0.5666666626930237,\n",
              "  0.5833333134651184,\n",
              "  0.5916666388511658,\n",
              "  0.6083333492279053,\n",
              "  0.625,\n",
              "  0.625,\n",
              "  0.6166666746139526,\n",
              "  0.625,\n",
              "  0.6416666507720947,\n",
              "  0.6499999761581421,\n",
              "  0.6666666865348816,\n",
              "  0.675000011920929,\n",
              "  0.6833333373069763,\n",
              "  0.6916666626930237,\n",
              "  0.6916666626930237,\n",
              "  0.699999988079071,\n",
              "  0.699999988079071,\n",
              "  0.699999988079071,\n",
              "  0.699999988079071,\n",
              "  0.7083333134651184,\n",
              "  0.7083333134651184,\n",
              "  0.7166666388511658,\n",
              "  0.7166666388511658,\n",
              "  0.7250000238418579,\n",
              "  0.7250000238418579,\n",
              "  0.7250000238418579,\n",
              "  0.7083333134651184,\n",
              "  0.7250000238418579,\n",
              "  0.7250000238418579,\n",
              "  0.7250000238418579,\n",
              "  0.7333333492279053,\n",
              "  0.75,\n",
              "  0.7583333253860474,\n",
              "  0.7583333253860474,\n",
              "  0.7666666507720947,\n",
              "  0.7666666507720947,\n",
              "  0.7666666507720947,\n",
              "  0.7666666507720947,\n",
              "  0.7666666507720947,\n",
              "  0.7666666507720947,\n",
              "  0.7666666507720947,\n",
              "  0.7749999761581421,\n",
              "  0.7666666507720947,\n",
              "  0.7749999761581421,\n",
              "  0.7666666507720947,\n",
              "  0.7666666507720947,\n",
              "  0.7666666507720947,\n",
              "  0.7666666507720947,\n",
              "  0.7666666507720947,\n",
              "  0.7833333611488342,\n",
              "  0.7916666865348816,\n",
              "  0.7916666865348816,\n",
              "  0.7916666865348816,\n",
              "  0.7916666865348816,\n",
              "  0.7916666865348816,\n",
              "  0.7916666865348816,\n",
              "  0.7833333611488342,\n",
              "  0.7749999761581421,\n",
              "  0.7749999761581421,\n",
              "  0.7749999761581421,\n",
              "  0.7749999761581421,\n",
              "  0.7749999761581421,\n",
              "  0.7749999761581421,\n",
              "  0.7749999761581421,\n",
              "  0.7749999761581421,\n",
              "  0.7749999761581421,\n",
              "  0.7749999761581421,\n",
              "  0.7749999761581421,\n",
              "  0.7749999761581421,\n",
              "  0.7749999761581421]}"
            ]
          },
          "execution_count": 20,
          "metadata": {},
          "output_type": "execute_result"
        }
      ],
      "source": [
        "history.history"
      ]
    },
    {
      "cell_type": "markdown",
      "metadata": {
        "id": "YeB8zZoulP_n"
      },
      "source": [
        "Now visualize the loss over time using `history.history`:"
      ]
    },
    {
      "cell_type": "code",
      "execution_count": null,
      "metadata": {
        "id": "xd7nBABMlP_n",
        "outputId": "c181f3ec-e6ea-4570-8fd2-737ed24f5c0a"
      },
      "outputs": [
        {
          "data": {
            "text/plain": [
              "[Text(0, 0.5, 'Accuracy'), Text(0.5, 0, 'Epoch')]"
            ]
          },
          "execution_count": 21,
          "metadata": {},
          "output_type": "execute_result"
        },
        {
          "data": {
            "image/png": "[encoded data removed]",
            "text/plain": [
              "<Figure size 864x576 with 1 Axes>"
            ]
          },
          "metadata": {
            "needs_background": "light"
          },
          "output_type": "display_data"
        },
        {
          "data": {
            "image/png": "[encoded data removed]",
            "text/plain": [
              "<Figure size 864x576 with 1 Axes>"
            ]
          },
          "metadata": {
            "needs_background": "light"
          },
          "output_type": "display_data"
        }
      ],
      "source": [
        "# The history.history[\"loss\"] entry is a dictionary with as many values as epochs that the\n",
        "# model was trained on.\n",
        "df_loss_acc = pd.DataFrame(history.history)\n",
        "df_loss= df_loss_acc[['loss','val_loss']]\n",
        "df_loss.rename(columns={'loss':'train','val_loss':'validation'},inplace=True)\n",
        "df_acc= df_loss_acc[['accuracy','val_accuracy']]\n",
        "df_acc.rename(columns={'accuracy':'train','val_accuracy':'validation'},inplace=True)\n",
        "df_loss.plot(title='Model loss',figsize=(12,8)).set(xlabel='Epoch',ylabel='Loss')\n",
        "df_acc.plot(title='Model Accuracy',figsize=(12,8)).set(xlabel='Epoch',ylabel='Accuracy')"
      ]
    },
    {
      "cell_type": "markdown",
      "metadata": {
        "id": "s7YhR6z9lP_n"
      },
      "source": [
        "**Congratulations**! You've finished the assignment and built two models: One that recognizes  smiles, and another that recognizes SIGN language with almost 80% accuracy on the test set. In addition to that, you now also understand the applications of two Keras APIs: Sequential and Functional. Nicely done!\n",
        "\n",
        "By now, you know a bit about how the Functional API works and may have glimpsed the possibilities. In your next assignment, you'll really get a feel for its power when you get the opportunity to build a very deep ConvNet, using ResNets!"
      ]
    },
    {
      "cell_type": "markdown",
      "metadata": {
        "id": "2CZx--HtlP_n"
      },
      "source": [
        "<a name='6'></a>\n",
        "## 6 - Bibliography\n",
        "\n",
        "You're always encouraged to read the official documentation. To that end, you can find the docs for the Sequential and Functional APIs here:\n",
        "\n",
        "https://www.tensorflow.org/guide/keras/sequential_model\n",
        "\n",
        "https://www.tensorflow.org/guide/keras/functional"
      ]
    }
  ],
  "metadata": {
    "coursera": {
      "course_slug": "convolutional-neural-networks",
      "graded_item_id": "bwbJV",
      "launcher_item_id": "0TkXB"
    },
    "kernelspec": {
      "display_name": "Python 3",
      "language": "python",
      "name": "python3"
    },
    "language_info": {
      "codemirror_mode": {
        "name": "ipython",
        "version": 3
      },
      "file_extension": ".py",
      "mimetype": "text/x-python",
      "name": "python",
      "nbconvert_exporter": "python",
      "pygments_lexer": "ipython3",
      "version": "3.7.6"
    },
    "colab": {
      "provenance": [],
      "include_colab_link": true
    }
  },
  "nbformat": 4,
  "nbformat_minor": 0
}